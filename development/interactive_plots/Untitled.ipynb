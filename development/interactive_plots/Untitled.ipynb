{
 "cells": [
  {
   "cell_type": "code",
   "execution_count": 1,
   "id": "68c2c616-fe1e-4890-ba77-d327a05315cf",
   "metadata": {},
   "outputs": [],
   "source": [
    "import numpy as np\n",
    "from oceanograpy.data import ctd\n",
    "from oceanograpy.maps import quickmap\n",
    "from oceanograpy.data.ship_ctd_tools import _ctd_visualize\n",
    "%matplotlib widget"
   ]
  },
  {
   "cell_type": "code",
   "execution_count": 2,
   "id": "abda2e14-0908-4db4-8654-0f10668e3e2c",
   "metadata": {},
   "outputs": [
    {
     "name": "stdout",
     "output_type": "stream",
     "text": [
      "Loaded 10 profiles from list of Datasets.\n",
      "NOTE: It seems the input data already binned -> using preexisting binning.\n"
     ]
    },
    {
     "data": {
      "application/vnd.jupyter.widget-view+json": {
       "model_id": "c70d03bbfd544c6085d056e03f5b51b1",
       "version_major": 2,
       "version_minor": 0
      },
      "text/plain": [
       "Joining profiles together:   0%|          | 0/10 [00:00<?, ?it/s]"
      ]
     },
     "metadata": {},
     "output_type": "display_data"
    }
   ],
   "source": [
    "d = ctd.ctds_from_cnv_dir('../example_data/cnv/atwain_cruise/')"
   ]
  },
  {
   "cell_type": "code",
   "execution_count": null,
   "id": "58632080-56f7-4821-ba94-0a0d915bff47",
   "metadata": {},
   "outputs": [],
   "source": []
  }
 ],
 "metadata": {
  "kernelspec": {
   "display_name": "oyv",
   "language": "python",
   "name": "oyv"
  },
  "language_info": {
   "codemirror_mode": {
    "name": "ipython",
    "version": 3
   },
   "file_extension": ".py",
   "mimetype": "text/x-python",
   "name": "python",
   "nbconvert_exporter": "python",
   "pygments_lexer": "ipython3",
   "version": "3.11.5"
  }
 },
 "nbformat": 4,
 "nbformat_minor": 5
}
