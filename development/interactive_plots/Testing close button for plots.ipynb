{
 "cells": [
  {
   "cell_type": "code",
   "execution_count": 2,
   "id": "27a7bbaf-7f0c-45de-8ac4-7004355992fb",
   "metadata": {},
   "outputs": [],
   "source": [
    "import numpy as np"
   ]
  },
  {
   "cell_type": "code",
   "execution_count": 6,
   "id": "7c3989c0-9976-4f1b-8fe4-4a82c99ed5b6",
   "metadata": {},
   "outputs": [],
   "source": [
    "from oceanograpy.data import ctd\n",
    "from oceanograpy.maps import quickmap"
   ]
  },
  {
   "cell_type": "code",
   "execution_count": 10,
   "id": "9a57f552-56cc-4ce6-b80b-c2ffe087fb9f",
   "metadata": {},
   "outputs": [],
   "source": [
    "%matplotlib widget"
   ]
  },
  {
   "cell_type": "code",
   "execution_count": 11,
   "id": "478f7932-deba-4eaf-ab96-4a2a4d39a2ac",
   "metadata": {},
   "outputs": [
    {
     "name": "stdout",
     "output_type": "stream",
     "text": [
      "Loaded 10 profiles from list of Datasets.\n",
      "NOTE: It seems the input data already binned -> using preexisting binning.\n"
     ]
    },
    {
     "data": {
      "application/vnd.jupyter.widget-view+json": {
       "model_id": "424d24895cb74f389854792e7d85b41f",
       "version_major": 2,
       "version_minor": 0
      },
      "text/plain": [
       "Joining profiles together:   0%|          | 0/10 [00:00<?, ?it/s]"
      ]
     },
     "metadata": {},
     "output_type": "display_data"
    }
   ],
   "source": [
    "d = ctd.ctds_from_cnv_dir('../example_data/cnv/atwain_cruise/')"
   ]
  },
  {
   "cell_type": "code",
   "execution_count": 53,
   "id": "3bbfb1c4-25b2-4d6d-846c-07e2c391836f",
   "metadata": {},
   "outputs": [],
   "source": [
    "import numpy as np\n",
    "import matplotlib.pyplot as plt\n",
    "import cartopy.crs as ccrs\n",
    "import ipywidgets as widgets\n",
    "from IPython.display import display\n",
    "\n",
    "def map(D, height=1000, width=1000, return_fig_ax=False, coast_resolution='50m', figsize=None):\n",
    "    '''\n",
    "    Quick map of cruise\n",
    "    '''\n",
    "    # These would maybe be useful for auto-scaling of the map..\n",
    "    lat_span = float(D.LATITUDE.max() - D.LATITUDE.min())\n",
    "    lon_span = float(D.LONGITUDE.max() - D.LONGITUDE.min())\n",
    "    lat_ctr = float(0.5 * (D.LATITUDE.max() + D.LATITUDE.min()))\n",
    "    lon_ctr = float(0.5 * (D.LONGITUDE.max() + D.LONGITUDE.min()))\n",
    "\n",
    "    fig, ax = quickmap.quick_map_stere(lon_ctr, lat_ctr, height=height,\n",
    "                                       width=width,\n",
    "                                       coast_resolution=coast_resolution,)\n",
    "\n",
    "    fig.canvas.header_visible = False  # Hide the figure header\n",
    "    \n",
    "    ax.plot(D.LONGITUDE, D.LATITUDE, '-k', transform=ccrs.PlateCarree(), alpha=0.5)\n",
    "    ax.plot(D.LONGITUDE, D.LATITUDE, 'or', transform=ccrs.PlateCarree())\n",
    "\n",
    "    if figsize:\n",
    "        fig.set_size_inches(figsize)\n",
    "    else:\n",
    "        figsize = fig.get_size_inches()\n",
    "\n",
    "    # Create a button to minimize the plot\n",
    "    minimize_button = widgets.Button(description=\"Minimize\")\n",
    "\n",
    "    def minimize_plot(_):\n",
    "        # Resize the figure to 2x\n",
    "        fig.set_size_inches(0.1, 0.1)\n",
    "        fig.canvas.draw()\n",
    "\n",
    "    minimize_button.on_click(minimize_plot)\n",
    "\n",
    "    # Create a button to restore full size\n",
    "    org_size_button = widgets.Button(description=\"Original Size\")\n",
    "\n",
    "    def org_size_plot(_):\n",
    "        # Resize the figure to its original size\n",
    "        fig.set_size_inches(figsize)\n",
    "        fig.canvas.draw()\n",
    "\n",
    "    # Create a button to restore full size\n",
    "    full_size_button = widgets.Button(description=\"Larger\")\n",
    "\n",
    "    def full_size_plot(_):\n",
    "        # Resize the figure to its original size\n",
    "        fig.set_size_inches(fig.get_size_inches()*2)\n",
    "        fig.canvas.draw()\n",
    "\n",
    "    minimize_button.on_click(minimize_plot)\n",
    "    org_size_button.on_click(org_size_plot)\n",
    "    full_size_button.on_click(full_size_plot)\n",
    "\n",
    "    # Create a static text widget\n",
    "    static_text = widgets.HTML(value='<p>Use the menu on the left of the figure to zoom/move around/save</p>')\n",
    "\n",
    "    # Display both buttons and text in a horizontal box\n",
    "   # display(widgets.HBox([minimize_button, org_size_button, full_size_button, static_text]))\n",
    "\n",
    "\n",
    " # Display buttons and static text horizontally, then stack with the figure vertically\n",
    "    display(widgets.VBox([\n",
    "        widgets.HBox([minimize_button, org_size_button, full_size_button]),\n",
    "        static_text\n",
    "    ]))\n",
    "    \n",
    "    if return_fig_ax:\n",
    "        return fig, ax\n",
    "\n",
    "# Example usage:\n",
    "# map(D, height=1000, width=1000, return_fig_ax=False, coast_resolution='50m', figsize=None)\n"
   ]
  },
  {
   "cell_type": "code",
   "execution_count": 63,
   "id": "24ac62bd-e1cf-4c4a-b34e-eb5c93a89669",
   "metadata": {},
   "outputs": [],
   "source": [
    "import numpy as np\n",
    "import matplotlib.pyplot as plt\n",
    "import cartopy.crs as ccrs\n",
    "import ipywidgets as widgets\n",
    "from IPython.display import display\n",
    "\n",
    "def map(D, height=1000, width=1000, return_fig_ax=False, coast_resolution='50m', figsize=None):\n",
    "    '''\n",
    "    Quick map of cruise\n",
    "    '''\n",
    "    # These would maybe be useful for auto-scaling of the map..\n",
    "    lat_span = float(D.LATITUDE.max() - D.LATITUDE.min())\n",
    "    lon_span = float(D.LONGITUDE.max() - D.LONGITUDE.min())\n",
    "    lat_ctr = float(0.5 * (D.LATITUDE.max() + D.LATITUDE.min()))\n",
    "    lon_ctr = float(0.5 * (D.LONGITUDE.max() + D.LONGITUDE.min()))\n",
    "\n",
    "    fig, ax = quickmap.quick_map_stere(lon_ctr, lat_ctr, height=height,\n",
    "                                       width=width,\n",
    "                                       coast_resolution=coast_resolution,)\n",
    "\n",
    "    fig.canvas.header_visible = False  # Hide the figure header\n",
    "    \n",
    "    ax.plot(D.LONGITUDE, D.LATITUDE, '-k', transform=ccrs.PlateCarree(), alpha=0.5)\n",
    "    ax.plot(D.LONGITUDE, D.LATITUDE, 'or', transform=ccrs.PlateCarree())\n",
    "\n",
    "    if figsize:\n",
    "        fig.set_size_inches(figsize)\n",
    "    else:\n",
    "        figsize = fig.get_size_inches()\n",
    "\n",
    "    # Create a button to minimize the plot\n",
    "    minimize_button = widgets.Button(description=\"Minimize\")\n",
    "\n",
    "    def minimize_plot(_):\n",
    "        # Resize the figure to 2x\n",
    "        fig.set_size_inches(0.1, 0.1)\n",
    "        fig.canvas.draw()\n",
    "\n",
    "    minimize_button.on_click(minimize_plot)\n",
    "\n",
    "    # Create a button to restore full size\n",
    "    org_size_button = widgets.Button(description=\"Original Size\")\n",
    "\n",
    "    def org_size_plot(_):\n",
    "        # Resize the figure to its original size\n",
    "        fig.set_size_inches(figsize)\n",
    "        fig.canvas.draw()\n",
    "\n",
    "    # Create a button to restore full size\n",
    "    full_size_button = widgets.Button(description=\"Larger\")\n",
    "\n",
    "    def full_size_plot(_):\n",
    "        # Resize the figure to its original size\n",
    "        fig.set_size_inches(fig.get_size_inches()*2)\n",
    "        fig.canvas.draw()\n",
    "\n",
    "    minimize_button.on_click(minimize_plot)\n",
    "    org_size_button.on_click(org_size_plot)\n",
    "    full_size_button.on_click(full_size_plot)\n",
    "\n",
    "    # Create a static text widget\n",
    "    static_text = widgets.HTML(value='<p>Use the menu on the left of the figure to zoom/move around/save</p>')\n",
    "\n",
    "    # Display both buttons and text with decreased vertical spacing\n",
    "    display(\n",
    "        widgets.HBox([minimize_button, org_size_button, full_size_button, static_text], layout=widgets.Layout(margin='0 0 5px 0', align_items='center')))\n",
    "    \n",
    "    if return_fig_ax:\n",
    "        return fig, ax\n",
    "\n",
    "# Example usage:\n",
    "# map(D, height=1000, width=1000, return_fig_ax=False, coast_resolution='50m', figsize=None)\n"
   ]
  },
  {
   "cell_type": "code",
   "execution_count": 64,
   "id": "02be5725-0e4f-4f94-9806-eed8e2d0c7db",
   "metadata": {},
   "outputs": [],
   "source": [
    "plt.close('all')"
   ]
  },
  {
   "cell_type": "code",
   "execution_count": 65,
   "id": "26e0d811-b219-4605-ad73-71c40ec7b555",
   "metadata": {},
   "outputs": [
    {
     "data": {
      "application/vnd.jupyter.widget-view+json": {
       "model_id": "bbd255a28aa74c1ea923a9b10250dddb",
       "version_major": 2,
       "version_minor": 0
      },
      "text/plain": [
       "HBox(children=(Button(description='Minimize', style=ButtonStyle()), Button(description='Original Size', style=…"
      ]
     },
     "metadata": {},
     "output_type": "display_data"
    },
    {
     "data": {
      "application/vnd.jupyter.widget-view+json": {
       "model_id": "6004a7d25027430ca40423771ad4a052",
       "version_major": 2,
       "version_minor": 0
      },
      "image/png": "[encoded data removed]",
      "text/html": [
       "\n",
       "            <div style=\"display: inline-block;\">\n",
       "                <div class=\"jupyter-widgets widget-label\" style=\"text-align: center;\">\n",
       "                    Figure\n",
       "                </div>\n",
       "                <img src='data:image/png;base64,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' width=400.0/>\n",
       "            </div>\n",
       "        "
      ],
      "text/plain": [
       "Canvas(header_visible=False, toolbar=Toolbar(toolitems=[('Home', 'Reset original view', 'home', 'home'), ('Bac…"
      ]
     },
     "metadata": {},
     "output_type": "display_data"
    }
   ],
   "source": [
    "map(d)"
   ]
  },
  {
   "cell_type": "code",
   "execution_count": null,
   "id": "9d735d40-c12a-4557-ac1a-0e3ca1d0b260",
   "metadata": {},
   "outputs": [],
   "source": []
  },
  {
   "cell_type": "code",
   "execution_count": null,
   "id": "aa37b84c-a09b-4a79-97f3-94c831a4be1e",
   "metadata": {},
   "outputs": [],
   "source": []
  }
 ],
 "metadata": {
  "kernelspec": {
   "display_name": "oyv",
   "language": "python",
   "name": "oyv"
  },
  "language_info": {
   "codemirror_mode": {
    "name": "ipython",
    "version": 3
   },
   "file_extension": ".py",
   "mimetype": "text/x-python",
   "name": "python",
   "nbconvert_exporter": "python",
   "pygments_lexer": "ipython3",
   "version": "3.11.5"
  }
 },
 "nbformat": 4,
 "nbformat_minor": 5
}
