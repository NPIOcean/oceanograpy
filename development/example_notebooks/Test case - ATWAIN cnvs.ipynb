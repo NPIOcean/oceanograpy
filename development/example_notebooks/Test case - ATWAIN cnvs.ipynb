{
 "cells": [
  {
   "cell_type": "markdown",
   "id": "8fa46799-e47d-4701-8f1c-eec346b5a2e8",
   "metadata": {},
   "source": [
    "## Test (A-TWAIN .cnv data)"
   ]
  },
  {
   "cell_type": "code",
   "execution_count": 1,
   "id": "01bade50-1c3e-4e5f-b725-c84aac343e22",
   "metadata": {},
   "outputs": [],
   "source": [
    "from oceanograpy.data import ctd"
   ]
  },
  {
   "cell_type": "code",
   "execution_count": 2,
   "id": "80b7aff9-f6a1-4616-b1e1-084e88595785",
   "metadata": {},
   "outputs": [],
   "source": [
    "source_dir = '../example_data/cnv/atwain_cruise/'"
   ]
  },
  {
   "cell_type": "code",
   "execution_count": 3,
   "id": "3775f0e9-8996-470b-85aa-f995c9e0f218",
   "metadata": {},
   "outputs": [
    {
     "name": "stdout",
     "output_type": "stream",
     "text": [
      "Loaded 10 profiles from list of Datasets.\n",
      "NOTE: It seems the input data already binned -> using preexisting binning.\n"
     ]
    },
    {
     "data": {
      "application/vnd.jupyter.widget-view+json": {
       "model_id": "85c5762bfe894dfaa37463e85f7c7826",
       "version_major": 2,
       "version_minor": 0
      },
      "text/plain": [
       "Joining profiles together:   0%|          | 0/10 [00:00<?, ?it/s]"
      ]
     },
     "metadata": {},
     "output_type": "display_data"
    },
    {
     "name": "stdout",
     "output_type": "stream",
     "text": [
      "\n",
      "NOTE: No cruise ID found in the dataset. Remember to assign!\n",
      "-> ds = .set_ctd_attr(N, \"cruise_name\").\n"
     ]
    }
   ],
   "source": [
    "D = ctd.ctds_from_cnv_dir(source_dir)"
   ]
  }
 ],
 "metadata": {
  "kernelspec": {
   "display_name": "oyv",
   "language": "python",
   "name": "oyv"
  },
  "language_info": {
   "codemirror_mode": {
    "name": "ipython",
    "version": 3
   },
   "file_extension": ".py",
   "mimetype": "text/x-python",
   "name": "python",
   "nbconvert_exporter": "python",
   "pygments_lexer": "ipython3",
   "version": "3.11.5"
  }
 },
 "nbformat": 4,
 "nbformat_minor": 5
}
