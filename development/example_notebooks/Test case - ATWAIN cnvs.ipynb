{
 "cells": [
  {
   "cell_type": "markdown",
   "id": "8fa46799-e47d-4701-8f1c-eec346b5a2e8",
   "metadata": {},
   "source": [
    "## Test (A-TWAIN .cnv data)"
   ]
  },
  {
   "cell_type": "code",
   "execution_count": 1,
   "id": "01bade50-1c3e-4e5f-b725-c84aac343e22",
   "metadata": {},
   "outputs": [],
   "source": [
    "from oceanograpy.data import ctd"
   ]
  },
  {
   "cell_type": "code",
   "execution_count": 2,
   "id": "80b7aff9-f6a1-4616-b1e1-084e88595785",
   "metadata": {},
   "outputs": [],
   "source": [
    "source_dir = '../example_data/cnv/atwain_cruise/'"
   ]
  },
  {
   "cell_type": "code",
   "execution_count": 3,
   "id": "3775f0e9-8996-470b-85aa-f995c9e0f218",
   "metadata": {},
   "outputs": [
    {
     "name": "stdout",
     "output_type": "stream",
     "text": [
      "Found 10 .cnv files in  \"../example_data/cnv/atwain_cruise/\".\n",
      "Loaded 10 profiles from list of Datasets.\n",
      "NOTE: It seems the input data already binned -> using preexisting binning.\n"
     ]
    },
    {
     "data": {
      "application/vnd.jupyter.widget-view+json": {
       "model_id": "9d65be3aa0de418d95f75a3c9567b511",
       "version_major": 2,
       "version_minor": 0
      },
      "text/plain": [
       "Joining profiles together:   0%|          | 0/10 [00:00<?, ?it/s]"
      ]
     },
     "metadata": {},
     "output_type": "display_data"
    }
   ],
   "source": [
    "D = ctd.ctds_from_cnv_dir(source_dir)"
   ]
  },
  {
   "cell_type": "code",
   "execution_count": null,
   "id": "f6ae5896-c641-4d37-af2d-4f49cdbeb04a",
   "metadata": {},
   "outputs": [],
   "source": []
  }
 ],
 "metadata": {
  "kernelspec": {
   "display_name": "oyv",
   "language": "python",
   "name": "oyv"
  },
  "language_info": {
   "codemirror_mode": {
    "name": "ipython",
    "version": 3
   },
   "file_extension": ".py",
   "mimetype": "text/x-python",
   "name": "python",
   "nbconvert_exporter": "python",
   "pygments_lexer": "ipython3",
   "version": "3.11.5"
  }
 },
 "nbformat": 4,
 "nbformat_minor": 5
}
