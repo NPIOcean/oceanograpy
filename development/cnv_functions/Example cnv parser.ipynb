{
 "cells": [
  {
   "cell_type": "code",
   "execution_count": 20,
   "id": "55cd19f0-08cc-4c67-8785-b14acf54732e",
   "metadata": {},
   "outputs": [],
   "source": [
    "import xarray as xr\n",
    "from oceanograpy.io import cnv\n",
    "from oceanograpy.data.ship_ctd import tools\n",
    "\n",
    "import importlib as imp\n"
   ]
  },
  {
   "cell_type": "code",
   "execution_count": 21,
   "id": "ff73358e-877f-4af5-90a3-2459a2118843",
   "metadata": {},
   "outputs": [
    {
     "data": {
      "text/plain": [
       "<module 'oceanograpy.data.ship_ctd.tools' from '/home/oyvindl/work/code/python/oceanograPy/src/oceanograpy/data/ship_ctd/tools.py'>"
      ]
     },
     "execution_count": 21,
     "metadata": {},
     "output_type": "execute_result"
    }
   ],
   "source": [
    "imp.reload(cnv)\n",
    "imp.reload(tools)"
   ]
  },
  {
   "cell_type": "code",
   "execution_count": 22,
   "id": "2f0505f4-a2a5-479f-816e-3a715f8db34f",
   "metadata": {},
   "outputs": [],
   "source": [
    "fn = 'Sta0001.cnv'"
   ]
  },
  {
   "cell_type": "code",
   "execution_count": 16,
   "id": "1f72bf66-d912-4f0a-ad53-798494c236b0",
   "metadata": {},
   "outputs": [
    {
     "name": "stdout",
     "output_type": "stream",
     "text": [
      "\n"
     ]
    }
   ],
   "source": [
    "ds = cnv.read_cnv(fn, time_dim=True)"
   ]
  },
  {
   "cell_type": "code",
   "execution_count": 17,
   "id": "6f9b3003-53c1-4075-813c-3ae795df6278",
   "metadata": {},
   "outputs": [],
   "source": [
    "h = cnv.read_header(fn)"
   ]
  }
 ],
 "metadata": {
  "kernelspec": {
   "display_name": "oyv",
   "language": "python",
   "name": "oyv"
  },
  "language_info": {
   "codemirror_mode": {
    "name": "ipython",
    "version": 3
   },
   "file_extension": ".py",
   "mimetype": "text/x-python",
   "name": "python",
   "nbconvert_exporter": "python",
   "pygments_lexer": "ipython3",
   "version": "3.11.5"
  }
 },
 "nbformat": 4,
 "nbformat_minor": 5
}
