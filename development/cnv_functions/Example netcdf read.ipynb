{
 "cells": [
  {
   "cell_type": "code",
   "execution_count": 12,
   "id": "55cd19f0-08cc-4c67-8785-b14acf54732e",
   "metadata": {},
   "outputs": [],
   "source": [
    "import xarray as xr"
   ]
  },
  {
   "cell_type": "code",
   "execution_count": 13,
   "id": "2f0505f4-a2a5-479f-816e-3a715f8db34f",
   "metadata": {},
   "outputs": [],
   "source": [
    "fn = '/home/oyvindl/work/data/example_datasets/ctd/fram_strait/FS2021_CTD_profiles.nc'"
   ]
  },
  {
   "cell_type": "code",
   "execution_count": 14,
   "id": "1f72bf66-d912-4f0a-ad53-798494c236b0",
   "metadata": {},
   "outputs": [],
   "source": [
    "d = xr.open_dataset(fn) "
   ]
  },
  {
   "cell_type": "code",
   "execution_count": null,
   "id": "3ddac8d7-13b2-4916-b1e2-cab0755fbbab",
   "metadata": {},
   "outputs": [],
   "source": []
  }
 ],
 "metadata": {
  "kernelspec": {
   "display_name": "oyv",
   "language": "python",
   "name": "oyv"
  },
  "language_info": {
   "codemirror_mode": {
    "name": "ipython",
    "version": 3
   },
   "file_extension": ".py",
   "mimetype": "text/x-python",
   "name": "python",
   "nbconvert_exporter": "python",
   "pygments_lexer": "ipython3",
   "version": "3.11.5"
  }
 },
 "nbformat": 4,
 "nbformat_minor": 5
}
