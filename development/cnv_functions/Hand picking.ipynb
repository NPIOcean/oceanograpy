{
 "cells": [
  {
   "cell_type": "code",
   "execution_count": 1,
   "id": "7d26a2e7-86ee-4f2d-8686-6da74a90bcd9",
   "metadata": {},
   "outputs": [],
   "source": [
    "import matplotlib.pyplot as plt\n",
    "from numpy.random import rand\n",
    "import numpy as np"
   ]
  },
  {
   "cell_type": "markdown",
   "id": "49351df5-32da-4905-92b3-8a608aa65e7f",
   "metadata": {},
   "source": [
    "Looks like this works for drawing rectangles. Need to write something to capture the points..\n",
    "\n",
    "Possibly useful: https://stackoverflow.com/questions/44274938/rectangle-to-select-area-in-plot-and-find-maximum-value"
   ]
  },
  {
   "cell_type": "code",
   "execution_count": 2,
   "id": "7159b618-a210-49e9-b536-c007a405f5b7",
   "metadata": {},
   "outputs": [],
   "source": [
    "#%matplotlib notebook\n",
    "\n",
    "# Works with tkagg \n",
    "%matplotlib tk"
   ]
  },
  {
   "cell_type": "code",
   "execution_count": null,
   "id": "772900b1-d8e6-4d99-a18e-bac643cee476",
   "metadata": {},
   "outputs": [],
   "source": [
    "https://github.com/matplotlib/ipympl/issues/460"
   ]
  },
  {
   "cell_type": "markdown",
   "id": "f630553b-5fe0-4e15-8c3c-37b66150acc9",
   "metadata": {},
   "source": [
    "Dowgrading (mamba install ipywidgets==7.7.5) did not work \n"
   ]
  },
  {
   "cell_type": "code",
   "execution_count": null,
   "id": "13101b2a-3470-4db1-9970-62b4f3490471",
   "metadata": {},
   "outputs": [],
   "source": []
  },
  {
   "cell_type": "code",
   "execution_count": 436,
   "id": "e40e3a1a-3d49-4e39-8f86-9d1fa0bee215",
   "metadata": {},
   "outputs": [
    {
     "data": {
      "text/plain": [
       "\u001b[0;31mSignature:\u001b[0m \u001b[0max\u001b[0m\u001b[0;34m.\u001b[0m\u001b[0mset_title\u001b[0m\u001b[0;34m(\u001b[0m\u001b[0mlabel\u001b[0m\u001b[0;34m,\u001b[0m \u001b[0mfontdict\u001b[0m\u001b[0;34m=\u001b[0m\u001b[0;32mNone\u001b[0m\u001b[0;34m,\u001b[0m \u001b[0mloc\u001b[0m\u001b[0;34m=\u001b[0m\u001b[0;32mNone\u001b[0m\u001b[0;34m,\u001b[0m \u001b[0mpad\u001b[0m\u001b[0;34m=\u001b[0m\u001b[0;32mNone\u001b[0m\u001b[0;34m,\u001b[0m \u001b[0;34m*\u001b[0m\u001b[0;34m,\u001b[0m \u001b[0my\u001b[0m\u001b[0;34m=\u001b[0m\u001b[0;32mNone\u001b[0m\u001b[0;34m,\u001b[0m \u001b[0;34m**\u001b[0m\u001b[0mkwargs\u001b[0m\u001b[0;34m)\u001b[0m\u001b[0;34m\u001b[0m\u001b[0;34m\u001b[0m\u001b[0m\n",
       "\u001b[0;31mDocstring:\u001b[0m\n",
       "Set a title for the Axes.\n",
       "\n",
       "Set one of the three available Axes titles. The available titles\n",
       "are positioned above the Axes in the center, flush with the left\n",
       "edge, and flush with the right edge.\n",
       "\n",
       "Parameters\n",
       "----------\n",
       "label : str\n",
       "    Text to use for the title\n",
       "\n",
       "fontdict : dict\n",
       "\n",
       "    .. admonition:: Discouraged\n",
       "\n",
       "       The use of *fontdict* is discouraged. Parameters should be passed as\n",
       "       individual keyword arguments or using dictionary-unpacking\n",
       "       ``set_title(..., **fontdict)``.\n",
       "\n",
       "    A dictionary controlling the appearance of the title text,\n",
       "    the default *fontdict* is::\n",
       "\n",
       "       {'fontsize': rcParams['axes.titlesize'],\n",
       "        'fontweight': rcParams['axes.titleweight'],\n",
       "        'color': rcParams['axes.titlecolor'],\n",
       "        'verticalalignment': 'baseline',\n",
       "        'horizontalalignment': loc}\n",
       "\n",
       "loc : {'center', 'left', 'right'}, default: :rc:`axes.titlelocation`\n",
       "    Which title to set.\n",
       "\n",
       "y : float, default: :rc:`axes.titley`\n",
       "    Vertical Axes location for the title (1.0 is the top).  If\n",
       "    None (the default) and :rc:`axes.titley` is also None, y is\n",
       "    determined automatically to avoid decorators on the Axes.\n",
       "\n",
       "pad : float, default: :rc:`axes.titlepad`\n",
       "    The offset of the title from the top of the Axes, in points.\n",
       "\n",
       "Returns\n",
       "-------\n",
       "`.Text`\n",
       "    The matplotlib text instance representing the title\n",
       "\n",
       "Other Parameters\n",
       "----------------\n",
       "**kwargs : `~matplotlib.text.Text` properties\n",
       "    Other keyword arguments are text properties, see `.Text` for a list\n",
       "    of valid text properties.\n",
       "\u001b[0;31mFile:\u001b[0m      ~/mambaforge/envs/oyv/lib/python3.11/site-packages/matplotlib/axes/_axes.py\n",
       "\u001b[0;31mType:\u001b[0m      method"
      ]
     },
     "metadata": {},
     "output_type": "display_data"
    }
   ],
   "source": [
    "ax.set_title?"
   ]
  },
  {
   "cell_type": "code",
   "execution_count": 437,
   "id": "63d66dcf-4c5f-4d2b-954b-342a7deaf0d3",
   "metadata": {},
   "outputs": [],
   "source": [
    "\n",
    "class oyv_sel:\n",
    "\n",
    "    def __init__(self, xdata, ydata):\n",
    "    #    self.MYDATA = np.array([[0, 1, 2, 3, 4, 5, 6],\n",
    "     #                           [0, 0, 0, 0, 0, 0, 0]])\n",
    "        self.first = True\n",
    "        self.fig = plt.figure()\n",
    "        self.ax = self.fig.add_axes([0.05, 0.05, 0.8, 0.75])\n",
    "     #   self.ax.set_xlim(-1, 7), self.ax.set_ylim(-3, 3), self.ax.grid(True)\n",
    "      #  self.ax.scatter(self.MYDATA[0], self.MYDATA[1])\n",
    "        self.xdata, self.ydata = xdata.copy(), ydata.copy()\n",
    "        self.xdata_return, self.ydata_return = xdata.copy(), ydata.copy()\n",
    "\n",
    "        line, = self.ax.plot(xdata, ydata)\n",
    "        point = self.ax.plot(xdata, ydata, '.k', zorder = 3)\n",
    "        text = self.ax.text(0,0,\"\")\n",
    "        xpicks = np.array([])\n",
    "\n",
    "       # self.button_ax = self.fig.add_axes([0.9, 0.05, 0.1, 0.075])\n",
    "        self.es = RectangleSelector(self.ax, self.onselect,\n",
    "                                   interactive=True)\n",
    "        self.xcoords = np.array([])\n",
    "        self.ycoords = np.array([])\n",
    "        self.xcoords_temp = np.array([])\n",
    "        self.ycoords_temp = np.array([])\n",
    "        plt.connect('key_press_event', self.toggle_selector)\n",
    "\n",
    "        plt.show()\n",
    "\n",
    "        self.ax.set_title('CLICK AND DRAG TO SELECT POINTS.\\nPress \"R\" to remove selected points\\n'\n",
    "                          'Press \"D\" to discard selection\\nPress \"X\" to exit', ha = 'left', loc = 'left')\n",
    "        self.temp_label = 'Points to remove'\n",
    "        self.remove_label = 'Selected points to remove'\n",
    "    \n",
    "    def onselect(self, eclick, erelease):\n",
    "\n",
    "        ext = self.es.extents\n",
    "        rectangle = Rectangle([ext[0], ext[2]], ext[1]-ext[0], ext[3]-ext[2])\n",
    "\n",
    "        self.contains_TF_ = rectangle.contains_points(np.vstack([self.xdata, self.ydata]).T) \n",
    "        \n",
    "        self.xcoords_temp = np.concatenate([self.xcoords_temp, self.xdata[self.contains_TF_]])\n",
    "        self.ycoords_temp = np.concatenate([self.ycoords_temp, self.ydata[self.contains_TF_]])\n",
    "        \n",
    "        try:\n",
    "            self.temp_scatter.remove()\n",
    "            plt.draw()\n",
    "        except:\n",
    "            pass\n",
    "        plt.draw()\n",
    "        self.temp_scatter = self.ax.scatter(self.xcoords_temp, self.ycoords_temp, \n",
    "                                            color = 'b', label = self.temp_label)\n",
    "        self.ax.legend()\n",
    "\n",
    "\n",
    "    def toggle_selector(self, event):\n",
    "        if event.key.upper() == 'R' : # Save\n",
    "            self.xcoords = np.concatenate([self.xcoords, self.xcoords_temp])\n",
    "            self.ycoords = np.concatenate([self.ycoords, self.ycoords_temp])\n",
    "            self.ax.scatter(self.xcoords, self.ycoords, color = 'r', label =self.remove_label, zorder = 2)\n",
    "            plt.draw()\n",
    "            self.remove_label = None\n",
    "            self.xcoords_temp = np.array([])\n",
    "            self.ycoords_temp = np.array([])\n",
    "            self.ydata_return[self.contains_TF_] = np.nan\n",
    "            self.xdata_return[self.contains_TF_] = np.nan\n",
    "            self.ax.legend()\n",
    "\n",
    "\n",
    "        if event.key.upper() =='D':# Discard\n",
    "            try:\n",
    "                self.temp_scatter.remove()\n",
    "                plt.show()\n",
    "            except:\n",
    "                pass\n",
    "                \n",
    "            self.xcoords_temp = np.array([])\n",
    "            self.ycoords_temp = np.array([])\n",
    "\n",
    "\n",
    "        if event.key.upper()== 'X' :# Discard\n",
    "            \n",
    "            print('EXIT.')\n",
    "            plt.close(self.fig)\n",
    "            fig, ax = plt.subplots(1, 2, sharex = True, sharey = True)\n",
    "            line0 = ax[0].plot(self.xdata, self.ydata)\n",
    "            line0 = ax[0].plot(self.xcoords, self.ycoords, '.r')\n",
    "\n",
    "          #  point, = ax[0].plot(self.xdata, self.ydata), marker=\"o\", color=\"crimson\")\n",
    "            line1 = ax[1].plot(self.xdata_return, self.ydata_return)\n",
    "\n",
    "            # Click button to save or preserve?\n",
    "            # Option to remove from all variables of just this one\n",
    "            # Test on different systems..\n",
    "            # Option to show (bin avged?) cruise profiles behine the main one?"
   ]
  },
  {
   "cell_type": "code",
   "execution_count": 438,
   "id": "6e375e64-5113-4a03-bea4-c19d21ffb137",
   "metadata": {},
   "outputs": [
    {
     "name": "stdout",
     "output_type": "stream",
     "text": [
      "EXIT.\n"
     ]
    }
   ],
   "source": [
    "plt.close('all')\n",
    "xdata = np.linspace(0,9*np.pi, num=301)\n",
    "ydata = np.sin(xdata)*np.cos(xdata*2.4)\n",
    "sel = oyv_sel(xdata, ydata)"
   ]
  },
  {
   "cell_type": "code",
   "execution_count": null,
   "id": "f770fbda-867a-4406-8b73-3fddda8d02d7",
   "metadata": {},
   "outputs": [],
   "source": []
  }
 ],
 "metadata": {
  "kernelspec": {
   "display_name": "oyv",
   "language": "python",
   "name": "oyv"
  },
  "language_info": {
   "codemirror_mode": {
    "name": "ipython",
    "version": 3
   },
   "file_extension": ".py",
   "mimetype": "text/x-python",
   "name": "python",
   "nbconvert_exporter": "python",
   "pygments_lexer": "ipython3",
   "version": "3.11.5"
  }
 },
 "nbformat": 4,
 "nbformat_minor": 5
}
