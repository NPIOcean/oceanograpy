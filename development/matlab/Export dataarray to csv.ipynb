{
 "cells": [
  {
   "cell_type": "code",
   "execution_count": 76,
   "id": "45826c2a-d1ea-4d1b-85a3-a203eda8725d",
   "metadata": {},
   "outputs": [
    {
     "name": "stdout",
     "output_type": "stream",
     "text": [
      "Found 10 .cnv files in  \"../example_data/cnv/atwain_cruise/\".\n",
      "Loaded 10 profiles from list of Datasets.\n",
      "NOTE: It seems the input data already binned -> using preexisting binning.\n"
     ]
    },
    {
     "data": {
      "application/vnd.jupyter.widget-view+json": {
       "model_id": "b8ae8115c56d4c6f8b29b42ef77aede3",
       "version_major": 2,
       "version_minor": 0
      },
      "text/plain": [
       "Joining profiles together:   0%|          | 0/10 [00:00<?, ?it/s]"
      ]
     },
     "metadata": {},
     "output_type": "display_data"
    }
   ],
   "source": [
    "from oceanograpy.data.ship_ctd_tools import _ctd_edit, _ctd_tools\n",
    "from oceanograpy.data import ctd\n",
    "import importlib as imp\n",
    "imp.reload(_ctd_edit)\n",
    "imp.reload(ctd)\n",
    "import ipywidgets as widgets\n",
    "from IPython.display import display, clear_output\n",
    "\n",
    "\n",
    "%matplotlib widget\n",
    "D = ctd.ctds_from_cnv_dir('../example_data/cnv/atwain_cruise/')"
   ]
  },
  {
   "cell_type": "code",
   "execution_count": 77,
   "id": "884a07c2-8feb-4a1e-8174-5e57aceba1f8",
   "metadata": {},
   "outputs": [],
   "source": [
    "from oceanograpy.util import time"
   ]
  },
  {
   "cell_type": "code",
   "execution_count": 78,
   "id": "c892582e-6c6a-466c-95d3-e08a661f603a",
   "metadata": {},
   "outputs": [
    {
     "data": {
      "text/plain": [
       "'2017-09-24 21:41:26'"
      ]
     },
     "execution_count": 78,
     "metadata": {},
     "output_type": "execute_result"
    }
   ],
   "source": [
    "time.datenum_to_timestamp(time_).strftime('%Y-%m-%d %H:%M:%S')"
   ]
  },
  {
   "cell_type": "code",
   "execution_count": 79,
   "id": "d144f716-2ce5-41f3-9ac5-65f0cff0231a",
   "metadata": {},
   "outputs": [],
   "source": [
    "ctd.to_csv(D, 'test_it')"
   ]
  },
  {
   "cell_type": "code",
   "execution_count": 4,
   "id": "f528dc16-bf2a-4f78-a519-fbe48a74462a",
   "metadata": {},
   "outputs": [],
   "source": [
    "data_dict = D.to_dict()"
   ]
  },
  {
   "cell_type": "code",
   "execution_count": 55,
   "id": "ba157a43-359f-4fbd-a4a0-a94bd01a8311",
   "metadata": {},
   "outputs": [],
   "source": [
    "\n"
   ]
  },
  {
   "cell_type": "code",
   "execution_count": 74,
   "id": "319d1647-e7b5-425b-8f66-1695e088f889",
   "metadata": {},
   "outputs": [],
   "source": [
    "def to_csv(D, outfile):\n",
    "    all_vars = list(D.coords.keys()) + list(D.data_vars.keys())\n",
    "    \n",
    "    prof_vars = ['PRES']\n",
    "    \n",
    "    for key in D.data_vars.keys():\n",
    "        if  'TIME' in D[key].dims:\n",
    "            if 'PRES' in D[key].dims:\n",
    "                prof_vars += [key]\n",
    "\n",
    "    if not outfile.endswith('.csv'):\n",
    "        outfile += '.csv'\n",
    "                \n",
    "    with open(outfile, 'w') as f:\n",
    "        for time_ in D.TIME.values:\n",
    "            D_prof = D.sel(TIME=time_)\n",
    "            time_str= time.datenum_to_timestamp(time_).strftime('%Y-%m-%d %H:%M:%S')\n",
    "            print('#'*88, file=f)\n",
    "            print(f'#####  {D_prof.STATION.values:<8} ###  {time_str}  ###  LAT: {D_prof.LATITUDE.values:<10}'\n",
    "                  f' ### LON: {D_prof.LONGITUDE.values:<10} #####', file=f)\n",
    "            print('#'*88 + '\\n', file=f)\n",
    "        \n",
    "            D_pd = D_prof[prof_vars].to_pandas()\n",
    "            D_pd = D_pd.drop('TIME', axis = 1)\n",
    "            \n",
    "            D_pd = D_pd.dropna(subset=D_pd.columns.difference(['PRES']), how='all')\n",
    "            print(D_pd.to_csv(), file=f)"
   ]
  },
  {
   "cell_type": "code",
   "execution_count": 75,
   "id": "60c55513-efd5-455e-9f9a-ee950dc61ad2",
   "metadata": {},
   "outputs": [],
   "source": [
    "to_csv(D, 'testcnv')"
   ]
  },
  {
   "cell_type": "code",
   "execution_count": null,
   "id": "a0c2718f-6869-4243-8e4b-7956c9a9d36c",
   "metadata": {},
   "outputs": [],
   "source": [
    "D_pd.to"
   ]
  }
 ],
 "metadata": {
  "kernelspec": {
   "display_name": "oyv",
   "language": "python",
   "name": "oyv"
  },
  "language_info": {
   "codemirror_mode": {
    "name": "ipython",
    "version": 3
   },
   "file_extension": ".py",
   "mimetype": "text/x-python",
   "name": "python",
   "nbconvert_exporter": "python",
   "pygments_lexer": "ipython3",
   "version": "3.11.5"
  }
 },
 "nbformat": 4,
 "nbformat_minor": 5
}
