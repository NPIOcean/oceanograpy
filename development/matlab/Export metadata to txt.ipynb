{
 "cells": [
  {
   "cell_type": "code",
   "execution_count": 46,
   "id": "45826c2a-d1ea-4d1b-85a3-a203eda8725d",
   "metadata": {},
   "outputs": [
    {
     "name": "stdout",
     "output_type": "stream",
     "text": [
      "Found 10 .cnv files in  \"../example_data/cnv/atwain_cruise/\".\n",
      "Loaded 10 profiles from list of Datasets.\n",
      "NOTE: It seems the input data already binned -> using preexisting binning.\n"
     ]
    },
    {
     "data": {
      "application/vnd.jupyter.widget-view+json": {
       "model_id": "9c3bae9d4cfc4ee1b3e4f029c89edf68",
       "version_major": 2,
       "version_minor": 0
      },
      "text/plain": [
       "Joining profiles together:   0%|          | 0/10 [00:00<?, ?it/s]"
      ]
     },
     "metadata": {},
     "output_type": "display_data"
    }
   ],
   "source": [
    "from oceanograpy.data.ship_ctd_tools import _ctd_edit, _ctd_tools\n",
    "from oceanograpy.data import ctd\n",
    "import importlib as imp\n",
    "imp.reload(_ctd_edit)\n",
    "imp.reload(ctd)\n",
    "import ipywidgets as widgets\n",
    "from IPython.display import display, clear_output\n",
    "\n",
    "\n",
    "%matplotlib widget\n",
    "D = ctd.ctds_from_cnv_dir('../example_data/cnv/atwain_cruise/')"
   ]
  },
  {
   "cell_type": "code",
   "execution_count": 47,
   "id": "884a07c2-8feb-4a1e-8174-5e57aceba1f8",
   "metadata": {},
   "outputs": [],
   "source": [
    "from oceanograpy.util import time"
   ]
  },
  {
   "cell_type": "code",
   "execution_count": 49,
   "id": "7cba7dc4-4ee5-4edf-8c0f-84148de9ecbb",
   "metadata": {},
   "outputs": [],
   "source": [
    "ctd.metadata_to_txt(D, 'test_md')"
   ]
  },
  {
   "cell_type": "code",
   "execution_count": 44,
   "id": "c1a15b6c-af45-456b-ab0b-6ab66581fef2",
   "metadata": {},
   "outputs": [],
   "source": [
    "def metadata_to_txt(D, outfile):\n",
    "    \"\"\"\n",
    "    Write metadata information from an xarray.Dataset to a text file.\n",
    "\n",
    "    Parameters:\n",
    "    - D (xarray.Dataset): The dataset containing metadata.\n",
    "    - outfile (str): Output file path for the text file. If the path doesn't\n",
    "      end with '.txt', it will be appended.\n",
    "\n",
    "    Returns:\n",
    "    None: The function writes metadata to the specified text file.\n",
    "\n",
    "    Example:\n",
    "    >>> metadata_to_txt(my_dataset, 'metadata_output')\n",
    "    \"\"\"\n",
    "\n",
    "    # Ensure the output file has a '.txt' extension\n",
    "    if not outfile.endswith('.txt'):\n",
    "        outfile += '.txt'\n",
    "\n",
    "    # Open the text file for writing\n",
    "    with open(outfile, 'w') as f:\n",
    "        # Create the file header based on the presence of 'id' attribute\n",
    "        if hasattr(D, 'id'):\n",
    "            file_header = f'FILE METADATA FROM: {D.id}'\n",
    "        else:\n",
    "            file_header = f'FILE METADATA'\n",
    "\n",
    "        # Print the file header with formatting\n",
    "        print('#'*80, file=f)\n",
    "        print(f'####  {file_header:<68}  ####', file=f)\n",
    "        print('#'*80, file=f)\n",
    "        print('\\n' + '#'*27, file=f)\n",
    "        print('### GLOBAL ATTRIBUTES   ###', file=f)\n",
    "        print('#'*27, file=f)\n",
    "        print('', file=f)\n",
    "\n",
    "        # Print global attributes\n",
    "        for key, item in D.attrs.items():\n",
    "            print(f'# {key}:', file=f)\n",
    "            print(item, file=f)\n",
    "\n",
    "        print('', file=f)\n",
    "        print('#'*27, file=f)\n",
    "        print('### VARIABLE ATTRIBUTES ###', file=f)\n",
    "        print('#'*27, file=f)\n",
    "\n",
    "        # Get all variable names (coordinates and data variables)\n",
    "        all_vars = list(D.coords.keys()) + list(D.data_vars.keys())\n",
    "\n",
    "        # Iterate through variables\n",
    "        for varnm in all_vars:\n",
    "            print('\\n' + '-'*50, file=f)\n",
    "\n",
    "            # Print variable name with indication of coordinate status\n",
    "            if varnm in D.coords:\n",
    "                print(f'{varnm} (coordinate)', file=f)\n",
    "            else:\n",
    "                print(f'{varnm}', file=f)\n",
    "\n",
    "            print('-'*50, file=f)\n",
    "\n",
    "            # Print variable attributes\n",
    "            for key, item in D[varnm].attrs.items():\n",
    "                print(f'# {key}:', file=f)\n",
    "                print(item, file=f)\n"
   ]
  },
  {
   "cell_type": "code",
   "execution_count": 45,
   "id": "60c55513-efd5-455e-9f9a-ee950dc61ad2",
   "metadata": {},
   "outputs": [],
   "source": [
    "metadata_to_txt(D, 'txttx')"
   ]
  },
  {
   "cell_type": "code",
   "execution_count": null,
   "id": "a0c2718f-6869-4243-8e4b-7956c9a9d36c",
   "metadata": {},
   "outputs": [],
   "source": [
    "D_pd.to"
   ]
  }
 ],
 "metadata": {
  "kernelspec": {
   "display_name": "oyv",
   "language": "python",
   "name": "oyv"
  },
  "language_info": {
   "codemirror_mode": {
    "name": "ipython",
    "version": 3
   },
   "file_extension": ".py",
   "mimetype": "text/x-python",
   "name": "python",
   "nbconvert_exporter": "python",
   "pygments_lexer": "ipython3",
   "version": "3.11.5"
  }
 },
 "nbformat": 4,
 "nbformat_minor": 5
}
