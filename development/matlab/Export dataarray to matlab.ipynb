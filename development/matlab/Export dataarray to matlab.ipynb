{
 "cells": [
  {
   "cell_type": "code",
   "execution_count": 84,
   "id": "45826c2a-d1ea-4d1b-85a3-a203eda8725d",
   "metadata": {},
   "outputs": [
    {
     "name": "stdout",
     "output_type": "stream",
     "text": [
      "Found 10 .cnv files in  \"../example_data/cnv/atwain_cruise/\".\n",
      "Loaded 10 profiles from list of Datasets.\n",
      "NOTE: It seems the input data already binned -> using preexisting binning.\n"
     ]
    },
    {
     "data": {
      "application/vnd.jupyter.widget-view+json": {
       "model_id": "8495f1406384493ab499b6a754b28e74",
       "version_major": 2,
       "version_minor": 0
      },
      "text/plain": [
       "Joining profiles together:   0%|          | 0/10 [00:00<?, ?it/s]"
      ]
     },
     "metadata": {},
     "output_type": "display_data"
    }
   ],
   "source": [
    "from oceanograpy.data.ship_ctd_tools import _ctd_edit, _ctd_tools\n",
    "from oceanograpy.data import ctd\n",
    "import importlib as imp\n",
    "imp.reload(_ctd_edit)\n",
    "imp.reload(ctd)\n",
    "import ipywidgets as widgets\n",
    "from IPython.display import display, clear_output\n",
    "\n",
    "\n",
    "%matplotlib widget\n",
    "D = ctd.ctds_from_cnv_dir('../example_data/cnv/atwain_cruise/')"
   ]
  },
  {
   "cell_type": "code",
   "execution_count": 87,
   "id": "69081c2a-b5dd-45b8-b515-07e95078b9d4",
   "metadata": {},
   "outputs": [
    {
     "name": "stdout",
     "output_type": "stream",
     "text": [
      "Saved the (simplified) Dataset to: test_again.mat\n"
     ]
    }
   ],
   "source": [
    "ctd.to_mat(D, 'test_again', simplify = True)"
   ]
  },
  {
   "cell_type": "code",
   "execution_count": 2,
   "id": "762001a7-acaf-40db-a9ff-703c184bfd5f",
   "metadata": {},
   "outputs": [],
   "source": [
    "from scipy.io import matlab"
   ]
  },
  {
   "cell_type": "code",
   "execution_count": 42,
   "id": "5aff9c6c-9324-47f8-b618-053a84f94564",
   "metadata": {},
   "outputs": [],
   "source": [
    "from oceanograpy.util import time"
   ]
  },
  {
   "cell_type": "code",
   "execution_count": 81,
   "id": "4c65a8fd-fbad-4801-b97d-84ac98122eca",
   "metadata": {},
   "outputs": [],
   "source": [
    "from oceanograpy.io import matfile"
   ]
  },
  {
   "cell_type": "code",
   "execution_count": 83,
   "id": "569b5eaf-13c5-4f9b-9f32-5b34c99ecd6d",
   "metadata": {},
   "outputs": [
    {
     "name": "stdout",
     "output_type": "stream",
     "text": [
      "Saved the Dataset to: new_test.mat\n"
     ]
    }
   ],
   "source": [
    "matfile.xr_to_mat(D, 'new_test')"
   ]
  },
  {
   "cell_type": "code",
   "execution_count": null,
   "id": "e669815b-5ff6-4e02-afc0-e325db351439",
   "metadata": {},
   "outputs": [],
   "source": []
  }
 ],
 "metadata": {
  "kernelspec": {
   "display_name": "oyv",
   "language": "python",
   "name": "oyv"
  },
  "language_info": {
   "codemirror_mode": {
    "name": "ipython",
    "version": 3
   },
   "file_extension": ".py",
   "mimetype": "text/x-python",
   "name": "python",
   "nbconvert_exporter": "python",
   "pygments_lexer": "ipython3",
   "version": "3.11.5"
  }
 },
 "nbformat": 4,
 "nbformat_minor": 5
}
